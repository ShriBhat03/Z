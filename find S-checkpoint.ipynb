{
 "cells": [
  {
   "cell_type": "code",
   "execution_count": 2,
   "id": "1da2e281",
   "metadata": {},
   "outputs": [
    {
     "name": "stdout",
     "output_type": "stream",
     "text": [
      "   Sunny  Warm Normal  Strong Warm.1    Same  Yes\n",
      "0  Sunny  Warm   High  Strong   Warm    Same  Yes\n",
      "1  Rainy  Cold   High  Strong   Cold  Change   No\n",
      "2  Sunny  Warm   High  Strong   Warm  Change  Yes\n",
      " The attributes are:  [['Sunny' 'Warm' 'High' 'Strong' 'Warm' 'Same']\n",
      " ['Rainy' 'Cold' 'High' 'Strong' 'Cold' 'Change']\n",
      " ['Sunny' 'Warm' 'High' 'Strong' 'Warm' 'Change']]\n",
      "The target is:  ['Yes' 'No' 'Yes']\n",
      " The final hypothesis is: None\n"
     ]
    }
   ],
   "source": [
    "import pandas as pd\n",
    "import numpy as np\n",
    "d = pd.read_csv(\"tr1.csv\") \n",
    "\n",
    "print(d)\n",
    "a = np.array(d)[:,:-1] \n",
    "print(\" The attributes are: \",a)\n",
    "t = np.array(d)[:,-1] \n",
    "print(\"The target is: \",t) \n",
    "\n",
    "def fun(c,t): \n",
    "    for i, val in enumerate(t): \n",
    "        if val == \"Yes\": \n",
    "            specific_hypothesis = c[i].copy() \n",
    "            break \n",
    "            for i, val in enumerate(c): \n",
    "                if t[i] == \"Yes\": \n",
    "                    for x in range(len(specific_hypothesis)): \n",
    "                        if val[x] != specific_hypothesis[x]: \n",
    "                            specific_hypothesis[x] = '?' \n",
    "                        else: \n",
    "                                pass  \n",
    "                        return specific_hypothesis \n",
    "print(\" The final hypothesis is:\",fun(a,t))"
   ]
  },
  {
   "cell_type": "code",
   "execution_count": null,
   "id": "43ddfeee",
   "metadata": {},
   "outputs": [],
   "source": []
  }
 ],
 "metadata": {
  "kernelspec": {
   "display_name": "Python 3 (ipykernel)",
   "language": "python",
   "name": "python3"
  },
  "language_info": {
   "codemirror_mode": {
    "name": "ipython",
    "version": 3
   },
   "file_extension": ".py",
   "mimetype": "text/x-python",
   "name": "python",
   "nbconvert_exporter": "python",
   "pygments_lexer": "ipython3",
   "version": "3.9.13"
  }
 },
 "nbformat": 4,
 "nbformat_minor": 5
}
