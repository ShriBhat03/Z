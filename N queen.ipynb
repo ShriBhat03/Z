{
 "cells": [
  {
   "cell_type": "code",
   "execution_count": 13,
   "id": "ec533ac8",
   "metadata": {},
   "outputs": [
    {
     "name": "stdout",
     "output_type": "stream",
     "text": [
      "ENter the number16\n",
      "[1, 0, 0, 0, 0, 0, 0, 0, 0, 0, 0, 0, 0, 0, 0, 0]\n",
      "[0, 0, 0, 1, 0, 0, 0, 0, 0, 0, 0, 0, 0, 0, 0, 0]\n",
      "[0, 1, 0, 0, 0, 0, 0, 0, 0, 0, 0, 0, 0, 0, 0, 0]\n",
      "[0, 0, 0, 0, 0, 0, 0, 0, 0, 0, 0, 0, 1, 0, 0, 0]\n",
      "[0, 0, 1, 0, 0, 0, 0, 0, 0, 0, 0, 0, 0, 0, 0, 0]\n",
      "[0, 0, 0, 0, 0, 0, 0, 0, 0, 1, 0, 0, 0, 0, 0, 0]\n",
      "[0, 0, 0, 0, 0, 0, 0, 0, 0, 0, 0, 1, 0, 0, 0, 0]\n",
      "[0, 0, 0, 0, 0, 0, 0, 0, 0, 0, 0, 0, 0, 0, 1, 0]\n",
      "[0, 0, 0, 0, 0, 1, 0, 0, 0, 0, 0, 0, 0, 0, 0, 0]\n",
      "[0, 0, 0, 0, 0, 0, 0, 0, 0, 0, 0, 0, 0, 0, 0, 1]\n",
      "[0, 0, 0, 0, 0, 0, 0, 0, 0, 0, 0, 0, 0, 1, 0, 0]\n",
      "[0, 0, 0, 0, 0, 0, 0, 1, 0, 0, 0, 0, 0, 0, 0, 0]\n",
      "[0, 0, 0, 0, 1, 0, 0, 0, 0, 0, 0, 0, 0, 0, 0, 0]\n",
      "[0, 0, 0, 0, 0, 0, 1, 0, 0, 0, 0, 0, 0, 0, 0, 0]\n",
      "[0, 0, 0, 0, 0, 0, 0, 0, 1, 0, 0, 0, 0, 0, 0, 0]\n",
      "[0, 0, 0, 0, 0, 0, 0, 0, 0, 0, 1, 0, 0, 0, 0, 0]\n"
     ]
    }
   ],
   "source": [
    "def isSafe(board, row, col):\n",
    "    \n",
    "    for i in range(col):\n",
    "        if board[row][i] == 1:\n",
    "            return False\n",
    " \n",
    "   \n",
    "    for i, j in zip(range(row, -1, -1), range(col, -1, -1)):\n",
    "        if board[i][j] == 1:\n",
    "            return False\n",
    " \n",
    "    \n",
    "    for i, j in zip(range(row, len(board)), range(col, -1, -1)):\n",
    "        if board[i][j] == 1:\n",
    "            return False\n",
    " \n",
    "    \n",
    "    return True\n",
    " \n",
    " \n",
    "def solveNQueens(board, col):\n",
    "   \n",
    "    if col >= len(board):\n",
    "        return True\n",
    " \n",
    "    \n",
    "    for i in range(len(board)):\n",
    "        if isSafe(board, i, col):\n",
    "            \n",
    "            board[i][col] = 1\n",
    " \n",
    "            \n",
    "            if solveNQueens(board, col + 1):\n",
    "                return True\n",
    " \n",
    "            \n",
    "            board[i][col] = 0\n",
    " \n",
    "    \n",
    "    return False\n",
    " \n",
    " \n",
    "n=int(input(\"ENter the number\"))\n",
    "\n",
    "board = [[0 for i in range(n)] for j in range(n)]\n",
    " \n",
    "\n",
    "if solveNQueens(board, 0):\n",
    "    for row in board:\n",
    "        print(row)\n",
    "else:\n",
    "    print(\"No solution found\")"
   ]
  },
  {
   "cell_type": "code",
   "execution_count": null,
   "id": "d00e1567",
   "metadata": {},
   "outputs": [],
   "source": []
  }
 ],
 "metadata": {
  "kernelspec": {
   "display_name": "Python 3 (ipykernel)",
   "language": "python",
   "name": "python3"
  },
  "language_info": {
   "codemirror_mode": {
    "name": "ipython",
    "version": 3
   },
   "file_extension": ".py",
   "mimetype": "text/x-python",
   "name": "python",
   "nbconvert_exporter": "python",
   "pygments_lexer": "ipython3",
   "version": "3.9.13"
  }
 },
 "nbformat": 4,
 "nbformat_minor": 5
}
