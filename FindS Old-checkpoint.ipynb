{
 "cells": [
  {
   "cell_type": "code",
   "execution_count": 2,
   "id": "77748aff",
   "metadata": {},
   "outputs": [
    {
     "name": "stdout",
     "output_type": "stream",
     "text": [
      "   Sunny  Warm Normal  Strong Warm.1    Same  Yes\n",
      "0  Sunny  Warm   High  Strong   Warm    Same  Yes\n",
      "1  Rainy  Cold   High  Strong   Cold  Change   No\n",
      "2  Sunny  Warm   High  Strong   Warm  Change  Yes\n",
      "The attributes are: [['Sunny' 'Warm' 'High' 'Strong' 'Warm' 'Same']\n",
      " ['Rainy' 'Cold' 'High' 'Strong' 'Cold' 'Change']\n",
      " ['Sunny' 'Warm' 'High' 'Strong' 'Warm' 'Change']]\n",
      "The Target is: ['Yes' 'No' 'Yes']\n"
     ]
    }
   ],
   "source": [
    "import pandas as pd\n",
    "import numpy as np\n",
    "import csv\n",
    "data=pd.read_csv(\"tr1.csv\")\n",
    "print(data)\n",
    "d=np.array(data)[:,:-1]\n",
    "print(\"The attributes are:\",d)\n",
    "target=np.array(data)[:,-1]\n",
    "print(\"The Target is:\",target)"
   ]
  },
  {
   "cell_type": "code",
   "execution_count": 3,
   "id": "f880c6ad",
   "metadata": {},
   "outputs": [
    {
     "name": "stdout",
     "output_type": "stream",
     "text": [
      "Final Hypothesis: ['Sunny' 'Warm' 'High' 'Strong' 'Warm' '?']\n"
     ]
    }
   ],
   "source": [
    "def train(c,t):\n",
    "    for i, val in enumerate(t):\n",
    "        if val==\"Yes\":\n",
    "            sh=c[i].copy()\n",
    "            break\n",
    "    for i,val in enumerate(c):\n",
    "        if t[i]==\"Yes\":\n",
    "            for x in range(len(sh)):\n",
    "                if val[x]!=sh[x]:\n",
    "                    sh[x]=\"?\"\n",
    "                else:\n",
    "                    pass\n",
    "    return sh\n",
    "print(\"Final Hypothesis:\",train(d,target))"
   ]
  },
  {
   "cell_type": "code",
   "execution_count": null,
   "id": "1d629494",
   "metadata": {},
   "outputs": [],
   "source": []
  }
 ],
 "metadata": {
  "kernelspec": {
   "display_name": "Python 3 (ipykernel)",
   "language": "python",
   "name": "python3"
  },
  "language_info": {
   "codemirror_mode": {
    "name": "ipython",
    "version": 3
   },
   "file_extension": ".py",
   "mimetype": "text/x-python",
   "name": "python",
   "nbconvert_exporter": "python",
   "pygments_lexer": "ipython3",
   "version": "3.9.13"
  }
 },
 "nbformat": 4,
 "nbformat_minor": 5
}
